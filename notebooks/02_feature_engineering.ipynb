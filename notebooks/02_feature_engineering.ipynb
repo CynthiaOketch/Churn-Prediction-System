{
 "cells": [
  {
   "cell_type": "markdown",
   "id": "41383ae3",
   "metadata": {},
   "source": [
    "# 🧱 02 - Feature Engineering\n",
    "This notebook handles data cleaning, transformation, and preparation for model training."
   ]
  },
  {
   "cell_type": "code",
   "execution_count": null,
   "id": "bb20a8b7",
   "metadata": {},
   "outputs": [],
   "source": [
    "import pandas as pd\n",
    "import numpy as np\n",
    "from sklearn.preprocessing import StandardScaler\n",
    "\n",
    "# Load dataset\n",
    "file_path = '../data/Telco-Customer-Churn.csv'\n",
    "df = pd.read_csv(file_path)\n",
    "df.head()"
   ]
  },
  {
   "cell_type": "markdown",
   "id": "49a13b75",
   "metadata": {},
   "source": [
    "## 🧼 Handle Missing and Invalid Data"
   ]
  },
  {
   "cell_type": "code",
   "execution_count": null,
   "id": "e5b1fc5d",
   "metadata": {},
   "outputs": [],
   "source": [
    "# Convert TotalCharges to numeric and fill missing values\n",
    "df['TotalCharges'] = pd.to_numeric(df['TotalCharges'], errors='coerce')\n",
    "df['TotalCharges'].fillna(df['TotalCharges'].median(), inplace=True)"
   ]
  },
  {
   "cell_type": "markdown",
   "id": "ebc96c8b",
   "metadata": {},
   "source": [
    "## 🔁 Encode Binary Categorical Variables"
   ]
  },
  {
   "cell_type": "code",
   "execution_count": null,
   "id": "d35ef88b",
   "metadata": {},
   "outputs": [],
   "source": [
    "binary_cols = ['Partner', 'Dependents', 'PhoneService', 'PaperlessBilling', 'Churn']\n",
    "for col in binary_cols:\n",
    "    df[col] = df[col].map({'Yes': 1, 'No': 0})"
   ]
  },
  {
   "cell_type": "markdown",
   "id": "fabd1849",
   "metadata": {},
   "source": [
    "## 🧠 One-Hot Encode Multi-Class Categorical Variables"
   ]
  },
  {
   "cell_type": "code",
   "execution_count": null,
   "id": "f0d79e9c",
   "metadata": {},
   "outputs": [],
   "source": [
    "# Drop customerID and encode categorical columns\n",
    "df.drop('customerID', axis=1, inplace=True)\n",
    "df = pd.get_dummies(df, drop_first=True)"
   ]
  },
  {
   "cell_type": "markdown",
   "id": "f6dff41d",
   "metadata": {},
   "source": [
    "## 📏 Feature Scaling"
   ]
  },
  {
   "cell_type": "code",
   "execution_count": null,
   "id": "43e7a5f5",
   "metadata": {},
   "outputs": [],
   "source": [
    "scaler = StandardScaler()\n",
    "numeric_cols = ['tenure', 'MonthlyCharges', 'TotalCharges']\n",
    "df[numeric_cols] = scaler.fit_transform(df[numeric_cols])"
   ]
  },
  {
   "cell_type": "markdown",
   "id": "063c274a",
   "metadata": {},
   "source": [
    "## 🎯 Split into Features and Target"
   ]
  },
  {
   "cell_type": "code",
   "execution_count": null,
   "id": "e6b7e011",
   "metadata": {},
   "outputs": [],
   "source": [
    "X = df.drop('Churn', axis=1)\n",
    "y = df['Churn']\n",
    "\n",
    "# Save for later (optional)\n",
    "X.to_csv('../data/features.csv', index=False)\n",
    "y.to_csv('../data/labels.csv', index=False)"
   ]
  },
  {
   "cell_type": "markdown",
   "id": "bc7e71c6",
   "metadata": {},
   "source": [
    "✅ Now the data is ready for model training!"
   ]
  }
 ],
 "metadata": {},
 "nbformat": 4,
 "nbformat_minor": 5
}