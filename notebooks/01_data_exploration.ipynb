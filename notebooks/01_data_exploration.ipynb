{
 "cells": [
  {
   "cell_type": "markdown",
   "id": "a71f852e",
   "metadata": {},
   "source": [
    "# 🔍 Telco Customer Churn Prediction\n",
    "This notebook explores and prepares the dataset for building a churn prediction model."
   ]
  },
  {
   "cell_type": "code",
   "execution_count": null,
   "id": "7a8eead7",
   "metadata": {},
   "outputs": [],
   "source": [
    "import pandas as pd\n",
    "import numpy as np\n",
    "import matplotlib.pyplot as plt\n",
    "import seaborn as sns\n",
    "\n",
    "# Display plots inline\n",
    "%matplotlib inline"
   ]
  },
  {
   "cell_type": "markdown",
   "id": "9d637c25",
   "metadata": {},
   "source": [
    "## 📥 Load Dataset"
   ]
  },
  {
   "cell_type": "code",
   "execution_count": null,
   "id": "9f746f1b",
   "metadata": {},
   "outputs": [],
   "source": [
    "df = pd.read_csv('../data/Telco-Customer-Churn.csv')\n",
    "df.head()"
   ]
  },
  {
   "cell_type": "markdown",
   "id": "3a378694",
   "metadata": {},
   "source": [
    "## 🧹 Basic Data Cleaning & Structure"
   ]
  },
  {
   "cell_type": "code",
   "execution_count": null,
   "id": "7f9142b8",
   "metadata": {},
   "outputs": [],
   "source": [
    "df.info()\n",
    "df.isnull().sum()"
   ]
  },
  {
   "cell_type": "markdown",
   "id": "4d947d17",
   "metadata": {},
   "source": [
    "## 📊 Churn Distribution"
   ]
  },
  {
   "cell_type": "code",
   "execution_count": null,
   "id": "7aa25753",
   "metadata": {},
   "outputs": [],
   "source": [
    "sns.countplot(data=df, x='Churn', palette='Set2')\n",
    "plt.title('Churn Count')\n",
    "plt.show()"
   ]
  },
  {
   "cell_type": "markdown",
   "id": "239d3f56",
   "metadata": {},
   "source": [
    "## 🔍 Explore Categorical Variables"
   ]
  },
  {
   "cell_type": "code",
   "execution_count": null,
   "id": "428daad9",
   "metadata": {},
   "outputs": [],
   "source": [
    "categorical_cols = df.select_dtypes(include='object').columns\n",
    "df[categorical_cols].nunique()"
   ]
  }
 ],
 "metadata": {},
 "nbformat": 4,
 "nbformat_minor": 5
}